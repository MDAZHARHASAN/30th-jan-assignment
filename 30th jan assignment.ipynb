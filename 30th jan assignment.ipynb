{
 "cells": [
  {
   "cell_type": "code",
   "execution_count": 1,
   "id": "a3d46221",
   "metadata": {},
   "outputs": [],
   "source": [
    "#Qno.1 Write a program to accept percentage from user and display the grade according to the following criteria:"
   ]
  },
  {
   "cell_type": "code",
   "execution_count": null,
   "id": "25c21fb8",
   "metadata": {},
   "outputs": [],
   "source": [
    "percentage=int(input(\"Enter your percentage = \"))\n",
    "if percentage>90 and percentage<=100: \n",
    "    print(\" Grade A\")\n",
    "elif percentage>80 and percentage<=90:\n",
    "    print(\"Grade B\")\n",
    "elif percentage>=60 and percentage<=80:\n",
    "    print(\"Grade C\")\n",
    "elif percentage<60 and percentage>=0:\n",
    "    print(\"Grade D\")\n",
    "else:\n",
    "    print(\"Enter the percentage between 0 to 100\")\n",
    "    "
   ]
  },
  {
   "cell_type": "code",
   "execution_count": null,
   "id": "8a5c041b",
   "metadata": {},
   "outputs": [],
   "source": [
    "#Qno.2 Write a program to accept the cost price of a bike and display the road tax to be paid according to the following criteria:"
   ]
  },
  {
   "cell_type": "code",
   "execution_count": null,
   "id": "f6242f67",
   "metadata": {},
   "outputs": [],
   "source": [
    "cost_price=int(input(\"Enter the cost price of a bike=\"))\n",
    "if cost_price>100000:\n",
    "    print(\"Road tax to be paid is 15%\")\n",
    "elif cost_price>50000 and cost_price<=100000:\n",
    "    print(\"Road tax to be paid is 10%\")\n",
    "elif cost_price<=50000 and cost_price>0:\n",
    "    print(\"Road tax to be paid is 5%\")\n",
    "else:\n",
    "    print(\"Enter the cost price above 0 rs\")\n",
    "  "
   ]
  },
  {
   "cell_type": "code",
   "execution_count": null,
   "id": "ab61e002",
   "metadata": {},
   "outputs": [],
   "source": [
    "#Qno.3 Write a program to accept any city from the user and display monuments of that city\n"
   ]
  },
  {
   "cell_type": "code",
   "execution_count": null,
   "id": "087f47bb",
   "metadata": {},
   "outputs": [],
   "source": [
    "city_name=input(\"Enter the city in lower case= \")\n",
    "if city_name==\"delhi\":\n",
    "    print(\"Red Fort\")\n",
    "elif city_name==\"agra\":\n",
    "    print(\"Taj Mahal\")\n",
    "elif city_name==\"jaipur\":\n",
    "    print(\"Jal Mahal\")\n"
   ]
  },
  {
   "cell_type": "code",
   "execution_count": null,
   "id": "d30871c0",
   "metadata": {},
   "outputs": [],
   "source": [
    "#Qno.4 Check how many times a given number can be divided by 3 before it is less than or equal to 10."
   ]
  },
  {
   "cell_type": "code",
   "execution_count": null,
   "id": "fb17b886",
   "metadata": {},
   "outputs": [],
   "source": [
    "def count_divisions(num):\n",
    "    count = 0\n",
    "    while num > 10:\n",
    "        num /= 3\n",
    "        count += 1\n",
    "    return count\n",
    "\n",
    "num = int(input(\"Enter a number: \"))\n",
    "result = count_divisions(num)\n",
    "print(\"The number can be divided by 3\",(result), \"times before it is less than or equal to 10.\")\n"
   ]
  },
  {
   "cell_type": "code",
   "execution_count": null,
   "id": "ae40701b",
   "metadata": {},
   "outputs": [],
   "source": [
    "#Qno.5 Why and when to use while loop in python.Give a detailed description with example."
   ]
  },
  {
   "cell_type": "code",
   "execution_count": null,
   "id": "acb0f0d1",
   "metadata": {},
   "outputs": [],
   "source": [
    "#Ans. The while loop in Python is used to repeatedly execute a block of code as long as a given condition is true. The loop continues to run until the condition becomes false.\n",
    "\n",
    "Here's an example:\n",
    "\n",
    "count = 1\n",
    "while count <= 5:\n",
    "    print(count)\n",
    "    count += 1\n",
    "    \n",
    "This code will output the numbers 1 to 5 because the condition count <= 5 is true for each iteration of the loop. On each iteration, the value of count is incremented by 1 until count becomes 6, which is not less than or equal to 5, so the loop stops and the code after the loop is executed.\n",
    "\n",
    "The while loop is useful when we don't know beforehand how many times we need to repeat the loop, and we want to continue looping until a certain condition is met."
   ]
  },
  {
   "cell_type": "code",
   "execution_count": null,
   "id": "e35054e2",
   "metadata": {},
   "outputs": [],
   "source": [
    "#Qno.6 Use nested while loop to print 3 different pattern."
   ]
  },
  {
   "cell_type": "code",
   "execution_count": null,
   "id": "3541a812",
   "metadata": {},
   "outputs": [],
   "source": [
    "#Ans. # Pattern 1\n",
    "\n",
    "i = 1\n",
    "while i <= 5:\n",
    "    j = 1\n",
    "    while j <= i:\n",
    "        print(\"*\", end=\"\")\n",
    "        j += 1\n",
    "    print()\n",
    "    i += 1\n",
    "\n",
    "print(\"\\n\")\n",
    "\n",
    "# Pattern 2\n",
    "i = 5\n",
    "while i >= 1:\n",
    "    j = 1\n",
    "    while j <= i:\n",
    "        print(\"*\", end=\"\")\n",
    "        j += 1\n",
    "    print()\n",
    "    i -= 1\n",
    "\n",
    "print(\"\\n\")\n",
    "\n",
    "# Pattern 3\n",
    "i = 1\n",
    "while i <= 5:\n",
    "    j = 1\n",
    "    while j <= 5:\n",
    "        if j >= 6 - i:\n",
    "            print(\"*\", end=\"\")\n",
    "        else:\n",
    "            print(\" \", end=\"\")\n",
    "        j += 1\n",
    "    print()\n",
    "    i += 1\n",
    "    \n",
    "#The first pattern is a simple pyramid shape of asterisks, the second pattern is an inverted pyramid shape of asterisks, and the third pattern is a diamond shape of asterisks.\n"
   ]
  },
  {
   "cell_type": "code",
   "execution_count": null,
   "id": "19c5b091",
   "metadata": {},
   "outputs": [],
   "source": [
    "#Qno.7 Reverse a while loop to display numbers from 10 to 1."
   ]
  },
  {
   "cell_type": "code",
   "execution_count": null,
   "id": "3f71f554",
   "metadata": {},
   "outputs": [],
   "source": [
    "#Ans. Here's an example of a while loop in Python that displays the numbers from 10 to 1 in reverse order:\n",
    "\n",
    "count = 10\n",
    "while count >= 1:\n",
    "    print(count)\n",
    "    count -= 1"
   ]
  },
  {
   "cell_type": "code",
   "execution_count": null,
   "id": "63339621",
   "metadata": {},
   "outputs": [],
   "source": [
    "#Qno. 8 is repeated and same as Qno. 7"
   ]
  }
 ],
 "metadata": {
  "kernelspec": {
   "display_name": "Python 3 (ipykernel)",
   "language": "python",
   "name": "python3"
  },
  "language_info": {
   "codemirror_mode": {
    "name": "ipython",
    "version": 3
   },
   "file_extension": ".py",
   "mimetype": "text/x-python",
   "name": "python",
   "nbconvert_exporter": "python",
   "pygments_lexer": "ipython3",
   "version": "3.9.13"
  }
 },
 "nbformat": 4,
 "nbformat_minor": 5
}
